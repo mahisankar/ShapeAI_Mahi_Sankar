{
  "nbformat": 4,
  "nbformat_minor": 0,
  "metadata": {
    "colab": {
      "name": "Mahi Sankar.ipynb",
      "provenance": []
    },
    "kernelspec": {
      "name": "python3",
      "display_name": "Python 3"
    },
    "language_info": {
      "name": "python"
    }
  },
  "cells": [
    {
      "cell_type": "code",
      "metadata": {
        "colab": {
          "base_uri": "https://localhost:8080/"
        },
        "id": "Sap_Aq_IhF74",
        "outputId": "0e91f7f2-9a85-4579-bfb5-d9680265c9c9"
      },
      "source": [
        "from keras.datasets import mnist\n",
        "\n",
        "data = mnist.load_data()"
      ],
      "execution_count": 1,
      "outputs": [
        {
          "output_type": "stream",
          "text": [
            "Downloading data from https://storage.googleapis.com/tensorflow/tf-keras-datasets/mnist.npz\n",
            "11493376/11490434 [==============================] - 0s 0us/step\n"
          ],
          "name": "stdout"
        }
      ]
    },
    {
      "cell_type": "code",
      "metadata": {
        "id": "LZ92mqHmiEj5"
      },
      "source": [
        "(X_train, y_train), (X_test, y_test) = data"
      ],
      "execution_count": 2,
      "outputs": []
    },
    {
      "cell_type": "code",
      "metadata": {
        "id": "CMBLqvRQiqCf"
      },
      "source": [
        "X_train = X_train.reshape((X_train.shape[0], 28*28)).astype('float32')\n",
        "X_test = X_test.reshape((X_test.shape[0], 28*28)).astype('float32')"
      ],
      "execution_count": 4,
      "outputs": []
    },
    {
      "cell_type": "code",
      "metadata": {
        "id": "tmC_43k7jh9c"
      },
      "source": [
        "X_train = X_train / 255\n",
        "X_test = X_test/255"
      ],
      "execution_count": 6,
      "outputs": []
    },
    {
      "cell_type": "code",
      "metadata": {
        "colab": {
          "base_uri": "https://localhost:8080/"
        },
        "id": "njmFUuERj13o",
        "outputId": "9630163b-123a-41b7-cbf4-31cdda35c343"
      },
      "source": [
        "from keras.utils import np_utils\n",
        "print(y_test.shape)\n",
        "y_train = np_utils.to_categorical(y_train)\n",
        "y_test = np_utils.to_categorical(y_test)\n",
        "num_classes = y_test.shape[1]\n",
        "print(y_test.shape)"
      ],
      "execution_count": 8,
      "outputs": [
        {
          "output_type": "stream",
          "text": [
            "(10000,)\n",
            "(10000, 10)\n"
          ],
          "name": "stdout"
        }
      ]
    },
    {
      "cell_type": "code",
      "metadata": {
        "id": "vPZKS__NlRRl"
      },
      "source": [
        "from keras.models import Sequential\n",
        "from keras.layers import Dense"
      ],
      "execution_count": 9,
      "outputs": []
    },
    {
      "cell_type": "code",
      "metadata": {
        "id": "VH8mNS6SmpbF"
      },
      "source": [
        "model = Sequential()\n",
        "model.add(Dense(32, input_dim = 28*28, activation='relu'))\n",
        "model.add(Dense(64, activation='relu'))\n",
        "model.add(Dense(10, activation='softmax'))"
      ],
      "execution_count": 11,
      "outputs": []
    },
    {
      "cell_type": "code",
      "metadata": {
        "id": "-0GA_XR9nv-B"
      },
      "source": [
        "model.compile(loss='categorical_crossentropy', optimizer='adam', metrics=['accuracy'])"
      ],
      "execution_count": 18,
      "outputs": []
    },
    {
      "cell_type": "code",
      "metadata": {
        "colab": {
          "base_uri": "https://localhost:8080/"
        },
        "id": "MPWRLBiroJ-9",
        "outputId": "84e0234a-efbe-4ec2-adaf-ef2ac9be6b20"
      },
      "source": [
        "model.summary"
      ],
      "execution_count": 19,
      "outputs": [
        {
          "output_type": "execute_result",
          "data": {
            "text/plain": [
              "<bound method Model.summary of <tensorflow.python.keras.engine.sequential.Sequential object at 0x7fa77ed6b8d0>>"
            ]
          },
          "metadata": {
            "tags": []
          },
          "execution_count": 19
        }
      ]
    },
    {
      "cell_type": "code",
      "metadata": {
        "colab": {
          "base_uri": "https://localhost:8080/"
        },
        "id": "UtYvhbO1ojQD",
        "outputId": "52a0b90f-331d-415c-cd4d-f804588ea866"
      },
      "source": [
        "model.fit(X_train, y_train, validation_split=0.2, epochs=10, batch_size=100)"
      ],
      "execution_count": 14,
      "outputs": [
        {
          "output_type": "stream",
          "text": [
            "Epoch 1/10\n",
            "480/480 [==============================] - 2s 2ms/step - loss: 2.0000 - accuracy: 0.3341 - val_loss: 0.8593 - val_accuracy: 0.7578\n",
            "Epoch 2/10\n",
            "480/480 [==============================] - 1s 2ms/step - loss: 0.7950 - accuracy: 0.7586 - val_loss: 0.5732 - val_accuracy: 0.8321\n",
            "Epoch 3/10\n",
            "480/480 [==============================] - 1s 2ms/step - loss: 0.5587 - accuracy: 0.8320 - val_loss: 0.4546 - val_accuracy: 0.8666\n",
            "Epoch 4/10\n",
            "480/480 [==============================] - 1s 2ms/step - loss: 0.4628 - accuracy: 0.8629 - val_loss: 0.3989 - val_accuracy: 0.8839\n",
            "Epoch 5/10\n",
            "480/480 [==============================] - 1s 2ms/step - loss: 0.4064 - accuracy: 0.8781 - val_loss: 0.3643 - val_accuracy: 0.8927\n",
            "Epoch 6/10\n",
            "480/480 [==============================] - 1s 2ms/step - loss: 0.3797 - accuracy: 0.8891 - val_loss: 0.3497 - val_accuracy: 0.8965\n",
            "Epoch 7/10\n",
            "480/480 [==============================] - 1s 2ms/step - loss: 0.3676 - accuracy: 0.8925 - val_loss: 0.3264 - val_accuracy: 0.9050\n",
            "Epoch 8/10\n",
            "480/480 [==============================] - 1s 2ms/step - loss: 0.3364 - accuracy: 0.9030 - val_loss: 0.3158 - val_accuracy: 0.9082\n",
            "Epoch 9/10\n",
            "480/480 [==============================] - 1s 2ms/step - loss: 0.3365 - accuracy: 0.9031 - val_loss: 0.3069 - val_accuracy: 0.9093\n",
            "Epoch 10/10\n",
            "480/480 [==============================] - 1s 2ms/step - loss: 0.3158 - accuracy: 0.9095 - val_loss: 0.2970 - val_accuracy: 0.9124\n"
          ],
          "name": "stdout"
        },
        {
          "output_type": "execute_result",
          "data": {
            "text/plain": [
              "<tensorflow.python.keras.callbacks.History at 0x7fa77ed6b590>"
            ]
          },
          "metadata": {
            "tags": []
          },
          "execution_count": 14
        }
      ]
    },
    {
      "cell_type": "code",
      "metadata": {
        "colab": {
          "base_uri": "https://localhost:8080/"
        },
        "id": "gVhus1n3pWdQ",
        "outputId": "2cea6139-219c-450f-a868-e45188454cc1"
      },
      "source": [
        "scores = model.evaluate(X_test, y_test)\n",
        "print(scores)"
      ],
      "execution_count": 16,
      "outputs": [
        {
          "output_type": "stream",
          "text": [
            "313/313 [==============================] - 1s 1ms/step - loss: 0.3064 - accuracy: 0.9105\n",
            "[0.3064425587654114, 0.9104999899864197]\n"
          ],
          "name": "stdout"
        }
      ]
    }
  ]
}